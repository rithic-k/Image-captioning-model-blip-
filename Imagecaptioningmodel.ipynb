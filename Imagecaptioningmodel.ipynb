{
  "nbformat": 4,
  "nbformat_minor": 0,
  "metadata": {
    "colab": {
      "provenance": []
    },
    "kernelspec": {
      "name": "python3",
      "display_name": "Python 3"
    },
    "language_info": {
      "name": "python"
    }
  },
  "cells": [
    {
      "cell_type": "code",
      "execution_count": null,
      "metadata": {
        "colab": {
          "base_uri": "https://localhost:8080/"
        },
        "id": "P7s_YYE4HrGx",
        "outputId": "29db5900-798b-459b-d917-ad314e430fa4"
      },
      "outputs": [
        {
          "output_type": "stream",
          "name": "stdout",
          "text": [
            "Mounted at /content/drive\n"
          ]
        }
      ],
      "source": [
        "from google.colab import drive\n",
        "drive.mount('/content/drive')\n"
      ]
    },
    {
      "cell_type": "code",
      "source": [
        "import kagglehub\n",
        "\n",
        "# Download latest version\n",
        "path = kagglehub.dataset_download(\"dataclusterlabs/vehicle-image-captioning-dataset\")\n",
        "\n",
        "print(\"Path to dataset files:\", path)\n"
      ],
      "metadata": {
        "id": "mVpiivHMH5ri"
      },
      "execution_count": null,
      "outputs": []
    },
    {
      "cell_type": "code",
      "source": [
        "import os\n",
        "from transformers import BlipProcessor, BlipForConditionalGeneration\n",
        "from PIL import Image\n",
        "\n",
        "# Set the path to the dataset in Google Drive\n",
        "image_dir = '/content/drive/MyDrive/vehicle-image-captioning-dataset/indian_vehicle_images/indian_vehicle_images'  # Adjust as necessary\n",
        "captions = {}\n"
      ],
      "metadata": {
        "id": "tRD2rcLDImc6"
      },
      "execution_count": null,
      "outputs": []
    },
    {
      "cell_type": "code",
      "source": [
        "# Load model and processor\n",
        "processor = BlipProcessor.from_pretrained('Salesforce/blip-image-captioning-base')\n",
        "model = BlipForConditionalGeneration.from_pretrained('Salesforce/blip-image-captioning-base')\n"
      ],
      "metadata": {
        "id": "JspjjKysLXAy"
      },
      "execution_count": null,
      "outputs": []
    },
    {
      "cell_type": "code",
      "source": [
        "# Loop through images and generate captions\n",
        "for image_name in os.listdir(image_dir):\n",
        "    if image_name.endswith(('.png', '.jpg', '.jpeg')):\n",
        "        image_path = os.path.join(image_dir, image_name)\n",
        "        image = Image.open(image_path)\n",
        "\n",
        "        # Prepare the image\n",
        "        inputs = processor(images=image, return_tensors='pt')\n",
        "\n",
        "        # Generate caption\n",
        "        out = model.generate(**inputs)\n",
        "        caption = processor.decode(out[0], skip_special_tokens=True)\n",
        "\n",
        "        captions[image_name] = caption\n"
      ],
      "metadata": {
        "id": "rR9KDwTQNEhO"
      },
      "execution_count": null,
      "outputs": []
    },
    {
      "cell_type": "code",
      "source": [
        "# Display captions\n",
        "for img, cap in captions.items():\n",
        "    print(f'{img}: {cap}')\n"
      ],
      "metadata": {
        "id": "kmMCqRLrPvG9"
      },
      "execution_count": null,
      "outputs": []
    },
    {
      "cell_type": "code",
      "source": [
        "# Save captions to a text file in Google Drive\n",
        "with open('/content/drive/MyDrive/captions.txt', 'w') as f:\n",
        "    for img, cap in captions.items():\n",
        "        f.write(f'{img}: {cap}\\n')\n",
        "\n",
        "print('Captions saved to /content/drive/MyDrive/captions.txt')\n"
      ],
      "metadata": {
        "id": "FKoDEfdjQAig"
      },
      "execution_count": null,
      "outputs": []
    },
    {
      "source": [
        "import pandas as pd\n",
        "import matplotlib.pyplot as plt\n",
        "import matplotlib.image as mpimg\n",
        "import os\n",
        "\n",
        "# Load the captions CSV file\n",
        "#captions_df = pd.read_csv('/content/drive/My Drive/vehicle-image-captioning-dataset/captions.csv')\n",
        "\n",
        "# Function to display image and caption\n",
        "def display_image_caption():\n",
        "  \"\"\"Displays an image and its corresponding caption.\n",
        "\n",
        "  Args:\n",
        "    image_id: The ID of the image to display.\n",
        "  \"\"\"\n",
        "  image_path = '/content/drive/MyDrive/vehicle-image-captioning-dataset/indian_vehicle_images/indian_vehicle_images'\n",
        "  images = os.listdir(image_path)\n",
        "  image_id = images[0]\n",
        "  print(image_id)\n",
        "  caption = captions[image_id]\n",
        "\n",
        "  img_path=os.path.join(image_path, image_id)\n",
        "  img = mpimg.imread(img_path)\n",
        "  plt.imshow(img)\n",
        "  plt.axis('off')  # Turn off axis numbers and ticks\n",
        "  plt.title(caption)\n",
        "  plt.show()\n",
        "\n",
        "# Example usage: Display image with ID '1'\n",
        "display_image_caption()"
      ],
      "cell_type": "code",
      "metadata": {
        "id": "JKy2ysPgQjnq"
      },
      "execution_count": null,
      "outputs": []
    },
    {
      "source": [
        "caption = captions[['image_id'] == image_id]['caption'].values[0]"
      ],
      "cell_type": "code",
      "metadata": {
        "id": "tkyaH0xMQ5vj"
      },
      "execution_count": null,
      "outputs": []
    }
  ]
}