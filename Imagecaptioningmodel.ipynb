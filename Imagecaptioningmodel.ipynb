{
  "nbformat": 4,
  "nbformat_minor": 0,
  "metadata": {
    "colab": {
      "provenance": []
    },
    "kernelspec": {
      "name": "python3",
      "display_name": "Python 3"
    },
    "language_info": {
      "name": "python"
    }
  },
  "cells": [
    {
      "cell_type": "code",
      "execution_count": null,
      "metadata": {
        "colab": {
          "base_uri": "https://localhost:8080/"
        },
        "id": "P7s_YYE4HrGx",
        "outputId": "29db5900-798b-459b-d917-ad314e430fa4"
      },
      "outputs": [
        {
          "output_type": "stream",
          "name": "stdout",
          "text": [
            "Mounted at /content/drive\n"
          ]
        }
      ],
      "source": [
        "from google.colab import drive\n",
        "drive.mount('/content/drive')\n"
      ]
    },
    {
      "cell_type": "code",
      "source": [
        "import kagglehub\n",
        "\n",
        "path = kagglehub.dataset_download(\"dataclusterlabs/vehicle-image-captioning-dataset\")\n",
        "\n",
        "print(\"Path to dataset files:\", path)\n"
      ],
      "metadata": {
        "id": "mVpiivHMH5ri"
      },
      "execution_count": null,
      "outputs": []
    },
    {
      "cell_type": "code",
      "source": [
        "import os\n",
        "from transformers import BlipProcessor, BlipForConditionalGeneration\n",
        "from PIL import Image\n",
        "\n",
        "\n",
        "image_dir = '/content/drive/MyDrive/vehicle-image-captioning-dataset/indian_vehicle_images/indian_vehicle_images'  # Adjust as necessary\n",
        "captions = {}\n"
      ],
      "metadata": {
        "id": "tRD2rcLDImc6"
      },
      "execution_count": null,
      "outputs": []
    },
    {
      "cell_type": "code",
      "source": [
        "\n",
        "processor = BlipProcessor.from_pretrained('Salesforce/blip-image-captioning-base')\n",
        "model = BlipForConditionalGeneration.from_pretrained('Salesforce/blip-image-captioning-base')\n"
      ],
      "metadata": {
        "id": "JspjjKysLXAy"
      },
      "execution_count": null,
      "outputs": []
    },
    {
      "cell_type": "code",
      "source": [
        "\n",
        "for image_name in os.listdir(image_dir):\n",
        "    if image_name.endswith(('.png', '.jpg', '.jpeg')):\n",
        "        image_path = os.path.join(image_dir, image_name)\n",
        "        image = Image.open(image_path)\n",
        "\n",
        "\n",
        "        inputs = processor(images=image, return_tensors='pt')\n",
        "\n",
        "        # Generate caption\n",
        "        out = model.generate(**inputs)\n",
        "        caption = processor.decode(out[0], skip_special_tokens=True)\n",
        "\n",
        "        captions[image_name] = caption\n"
      ],
      "metadata": {
        "colab": {
          "base_uri": "https://localhost:8080/",
          "height": 216
        },
        "id": "rR9KDwTQNEhO",
        "outputId": "b89b5dc4-485c-4edf-868b-1988f6e6427f"
      },
      "execution_count": 1,
      "outputs": [
        {
          "output_type": "error",
          "ename": "NameError",
          "evalue": "name 'os' is not defined",
          "traceback": [
            "\u001b[0;31m---------------------------------------------------------------------------\u001b[0m",
            "\u001b[0;31mNameError\u001b[0m                                 Traceback (most recent call last)",
            "\u001b[0;32m<ipython-input-1-96bf6e9bab9a>\u001b[0m in \u001b[0;36m<cell line: 2>\u001b[0;34m()\u001b[0m\n\u001b[1;32m      1\u001b[0m \u001b[0;31m# Loop through images and generate captions\u001b[0m\u001b[0;34m\u001b[0m\u001b[0;34m\u001b[0m\u001b[0m\n\u001b[0;32m----> 2\u001b[0;31m \u001b[0;32mfor\u001b[0m \u001b[0mimage_name\u001b[0m \u001b[0;32min\u001b[0m \u001b[0mos\u001b[0m\u001b[0;34m.\u001b[0m\u001b[0mlistdir\u001b[0m\u001b[0;34m(\u001b[0m\u001b[0mimage_dir\u001b[0m\u001b[0;34m)\u001b[0m\u001b[0;34m:\u001b[0m\u001b[0;34m\u001b[0m\u001b[0;34m\u001b[0m\u001b[0m\n\u001b[0m\u001b[1;32m      3\u001b[0m     \u001b[0;32mif\u001b[0m \u001b[0mimage_name\u001b[0m\u001b[0;34m.\u001b[0m\u001b[0mendswith\u001b[0m\u001b[0;34m(\u001b[0m\u001b[0;34m(\u001b[0m\u001b[0;34m'.png'\u001b[0m\u001b[0;34m,\u001b[0m \u001b[0;34m'.jpg'\u001b[0m\u001b[0;34m,\u001b[0m \u001b[0;34m'.jpeg'\u001b[0m\u001b[0;34m)\u001b[0m\u001b[0;34m)\u001b[0m\u001b[0;34m:\u001b[0m\u001b[0;34m\u001b[0m\u001b[0;34m\u001b[0m\u001b[0m\n\u001b[1;32m      4\u001b[0m         \u001b[0mimage_path\u001b[0m \u001b[0;34m=\u001b[0m \u001b[0mos\u001b[0m\u001b[0;34m.\u001b[0m\u001b[0mpath\u001b[0m\u001b[0;34m.\u001b[0m\u001b[0mjoin\u001b[0m\u001b[0;34m(\u001b[0m\u001b[0mimage_dir\u001b[0m\u001b[0;34m,\u001b[0m \u001b[0mimage_name\u001b[0m\u001b[0;34m)\u001b[0m\u001b[0;34m\u001b[0m\u001b[0;34m\u001b[0m\u001b[0m\n\u001b[1;32m      5\u001b[0m         \u001b[0mimage\u001b[0m \u001b[0;34m=\u001b[0m \u001b[0mImage\u001b[0m\u001b[0;34m.\u001b[0m\u001b[0mopen\u001b[0m\u001b[0;34m(\u001b[0m\u001b[0mimage_path\u001b[0m\u001b[0;34m)\u001b[0m\u001b[0;34m\u001b[0m\u001b[0;34m\u001b[0m\u001b[0m\n",
            "\u001b[0;31mNameError\u001b[0m: name 'os' is not defined"
          ]
        }
      ]
    },
    {
      "cell_type": "code",
      "source": [
        "# Display captions\n",
        "for img, cap in captions.items():\n",
        "    print(f'{img}: {cap}')\n"
      ],
      "metadata": {
        "id": "kmMCqRLrPvG9"
      },
      "execution_count": null,
      "outputs": []
    },
    {
      "cell_type": "code",
      "source": [
        "\n",
        "with open('/content/drive/MyDrive/captions.txt', 'w') as f:\n",
        "    for img, cap in captions.items():\n",
        "        f.write(f'{img}: {cap}\\n')\n",
        "\n",
        "print('Captions saved to /content/drive/MyDrive/captions.txt')\n"
      ],
      "metadata": {
        "id": "FKoDEfdjQAig"
      },
      "execution_count": null,
      "outputs": []
    },
    {
      "source": [
        "import pandas as pd\n",
        "import matplotlib.pyplot as plt\n",
        "import matplotlib.image as mpimg\n",
        "import os\n",
        "\n",
        "\n",
        "def display_image_caption():\n",
        "  \"\"\"Displays an image and its corresponding caption.\n",
        "\n",
        "  Args:\n",
        "    image_id: The ID of the image to display.\n",
        "  \"\"\"\n",
        "  image_path = '/content/drive/MyDrive/vehicle-image-captioning-dataset/indian_vehicle_images/indian_vehicle_images'\n",
        "  images = os.listdir(image_path)\n",
        "  image_id = images[0]\n",
        "  print(image_id)\n",
        "  caption = captions[image_id]\n",
        "\n",
        "  img_path=os.path.join(image_path, image_id)\n",
        "  img = mpimg.imread(img_path)\n",
        "  plt.imshow(img)\n",
        "  plt.axis('off')\n",
        "  plt.title(caption)\n",
        "  plt.show()\n",
        "\n",
        "# Example usage: Display image with ID '1'\n",
        "display_image_caption()"
      ],
      "cell_type": "code",
      "metadata": {
        "id": "JKy2ysPgQjnq"
      },
      "execution_count": null,
      "outputs": []
    },
    {
      "source": [
        "caption = captions[['image_id'] == image_id]['caption'].values[0]"
      ],
      "cell_type": "code",
      "metadata": {
        "id": "tkyaH0xMQ5vj"
      },
      "execution_count": null,
      "outputs": []
    }
  ]
}